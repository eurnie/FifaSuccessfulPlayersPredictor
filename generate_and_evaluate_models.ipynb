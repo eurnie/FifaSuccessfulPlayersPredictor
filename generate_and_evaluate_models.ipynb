{
 "cells": [
  {
   "cell_type": "markdown",
   "id": "3d04e8ce",
   "metadata": {},
   "source": [
    "# Generate and evaluate models"
   ]
  },
  {
   "cell_type": "markdown",
   "id": "884d334e",
   "metadata": {},
   "source": [
    "### Import training and test data"
   ]
  },
  {
   "cell_type": "code",
   "execution_count": 1,
   "id": "94262d71",
   "metadata": {},
   "outputs": [],
   "source": [
    "import numpy as np\n",
    "import pandas as pd\n",
    "import matplotlib.pyplot as plt\n",
    "from collections import Counter\n",
    "from sklearn.metrics import f1_score, mean_squared_error as mse\n",
    "from sklearn import svm\n",
    "from sklearn.linear_model import LogisticRegression\n",
    "from sklearn.pipeline import make_pipeline\n",
    "from sklearn.preprocessing import StandardScaler\n",
    "from PU_Learning import *\n",
    "\n",
    "def ignore_warnings():\n",
    "    import warnings\n",
    "    warnings.simplefilter(action='ignore', category=FutureWarning)\n",
    "    warnings.simplefilter(action='ignore', category=Warning)\n",
    "\n",
    "ignore_warnings()"
   ]
  },
  {
   "cell_type": "code",
   "execution_count": 2,
   "id": "f7ea45c5",
   "metadata": {},
   "outputs": [],
   "source": [
    "# import training data\n",
    "data = pd.read_csv('clean_data/players_17_clean_train.csv')\n",
    "train_x = data.iloc[:, :-1].values\n",
    "train_y = data.iloc[:, -1].values\n",
    "s = data.iloc[:, -1].values\n",
    "c = Counter(s)[1]/Counter(train_y)[1]\n",
    "\n",
    "# import test data \n",
    "data = pd.read_csv('clean_data/players_17_clean_test.csv')\n",
    "test_x = data.iloc[:, :-1].values\n",
    "test_y = data.iloc[:, -1].values"
   ]
  },
  {
   "cell_type": "markdown",
   "id": "5150b7af",
   "metadata": {},
   "source": [
    "### Golden Standard Classifier"
   ]
  },
  {
   "cell_type": "code",
   "execution_count": 3,
   "id": "77fcbe30",
   "metadata": {},
   "outputs": [
    {
     "name": "stdout",
     "output_type": "stream",
     "text": [
      "Golden Standard Classifier: F1 score: 0.6432673899170389\n"
     ]
    }
   ],
   "source": [
    "# consider the dataset as fully labeled and use this as the best case in the comparison.\n",
    "golden_clf = svm.SVC(kernel='rbf', probability=True, random_state=331).fit(np.copy(train_x),np.copy(train_y))\n",
    "name = \"Golden Standard Classifier:\"\n",
    "\n",
    "best_pred_y = golden_clf.predict(np.copy(test_x))\n",
    "best_prob_y = golden_clf.predict_proba(np.copy(test_x))[:,1]\n",
    "\n",
    "print(name,\"F1 score:\", f1_score(test_y, best_pred_y))"
   ]
  },
  {
   "cell_type": "markdown",
   "id": "e9ae113f",
   "metadata": {},
   "source": [
    "### Non-Traditional Classifier"
   ]
  },
  {
   "cell_type": "code",
   "execution_count": null,
   "id": "be6e1f76",
   "metadata": {},
   "outputs": [],
   "source": [
    "non_trad_clf = svm.SVC(kernel='rbf', probability=True, random_state=331).fit(np.copy(train_x), np.copy(s))\n",
    "name = \"Non-Traditional Classifier\"\n",
    "\n",
    "pred_y = non_trad_clf.predict(np.copy(test_x))\n",
    "pred_prob_y = non_trad_clf.predict_proba(np.copy(test_x))[:,1]\n",
    "\n",
    "print(name,\"F1 score:\", f1_score(test_y, pred_y))\n",
    "print(name,\"MSE score:\", mse(best_prob_y, pred_prob_y))"
   ]
  },
  {
   "cell_type": "markdown",
   "id": "01957ab5",
   "metadata": {},
   "source": [
    "### Spy Expectation Maximization S-EM"
   ]
  },
  {
   "cell_type": "code",
   "execution_count": null,
   "id": "5c4b4e75",
   "metadata": {},
   "outputs": [],
   "source": [
    "pu_classifier = SEM(tol=1.0e-10, max_iter=1000, spy_prop=0.1, l=0.15, classifier=LogisticRegression(), seed=331)\n",
    "name = \"SEM\"\n",
    "\n",
    "pu_classifier.fit(np.copy(train_x), np.copy(s))\n",
    "\n",
    "pred_y = pu_classifier.predict(np.copy(test_x))\n",
    "pred_prob_y = pu_classifier.predict_proba(np.copy(test_x))[:,1]\n",
    "\n",
    "print(name,\"F1 score:\", f1_score(test_y, pred_y))\n",
    "print(name,\"MSE score:\", mse(best_prob_y, pred_prob_y))"
   ]
  },
  {
   "cell_type": "markdown",
   "id": "bdc252db",
   "metadata": {},
   "source": [
    "### Modified Logistic Regression MLR"
   ]
  },
  {
   "cell_type": "code",
   "execution_count": null,
   "id": "f803a67a",
   "metadata": {},
   "outputs": [],
   "source": [
    "pu_classifier = ModifiedLogisticRegression(max_iter=1000, l_rate=0.001, seed=331)\n",
    "name = \"MLR\"\n",
    "\n",
    "pu_classifier.parameters_update(np.copy(train_x), np.copy(s))\n",
    "pu_classifier.fit(np.copy(train_x), np.copy(s))\n",
    "pu_classifier.estimate_c()\n",
    "\n",
    "pred_y = pu_classifier.predict(np.copy(test_x))\n",
    "pred_prob_y = pu_classifier.predict_proba(np.copy(test_x))\n",
    "\n",
    "print(name,\"F1 score:\", f1_score(test_y, pred_y))\n",
    "print(name,\"MSE score:\", mse(best_prob_y, pred_prob_y))"
   ]
  },
  {
   "cell_type": "markdown",
   "id": "34e149a2",
   "metadata": {},
   "source": [
    "### 1-DNFII"
   ]
  },
  {
   "cell_type": "code",
   "execution_count": 3,
   "id": "a765fbe5",
   "metadata": {},
   "outputs": [],
   "source": [
    "# deviation indicates whether two feature values are considered the same\n",
    "# if deviation = 0, the two feature values need to be exactly the same\n",
    "# if deviation = 1, feature value one need to be equal to feature value two - 1\n",
    "#                   OR feature value one need to be equal to feature value two + 1\n",
    "#                   OR the two feature values are exactly the same\n",
    "global deviation \n",
    "deviation = 0.1\n",
    "\n",
    "# the parameter lambda used in 1-DNFII\n",
    "global parameter_lambda \n",
    "parameter_lambda = 0.1"
   ]
  },
  {
   "cell_type": "code",
   "execution_count": 4,
   "id": "c34bb67e",
   "metadata": {},
   "outputs": [],
   "source": [
    "# calculate the frequency of a certain score for a certain feature\n",
    "def frequency(feature, score, collection):\n",
    "    count = 0\n",
    "    for element in collection:\n",
    "        if (element[feature] > score - deviation) and (element[feature] < score + deviation):\n",
    "            count += 1\n",
    "    return count\n",
    "\n",
    "# algorithm improved 1-DNF (1-DNFII)\n",
    "def dnf(train_x, train_y):\n",
    "    num_rows, num_cols = train_x.shape\n",
    "    \n",
    "    # PF = positive feature set\n",
    "    PF = np.zeros(shape=(0, 2))\n",
    "    \n",
    "    # RN = reliable negatives\n",
    "    RN = np.zeros(shape=(0, num_cols))\n",
    "    RN_y = np.array([])\n",
    "    \n",
    "    # U = unlabeled\n",
    "    U = np.zeros(shape=(0, num_cols))\n",
    "    U_y = np.array([])\n",
    "    \n",
    "    # P = positive\n",
    "    P = np.zeros(shape=(0, num_cols))\n",
    "    P_y = np.array([])\n",
    "    \n",
    "    # construct P, U and RN\n",
    "    # at this moment: RN = U\n",
    "    for i in range(0, len(train_y)-1):\n",
    "        if (train_y[i] == 1):\n",
    "            P = np.vstack([P, train_x[i]])\n",
    "            P_y = np.append(P_y, train_y[i])\n",
    "        else:\n",
    "            U = np.vstack([U, train_x[i]])\n",
    "            U_y = np.append(U_y, train_y[i])\n",
    "            RN = np.vstack([RN, train_x[i]])\n",
    "            RN_y = np.append(RN_y, train_y[i])\n",
    "            \n",
    "    print(\"1-DNFII: RN is initialized\")\n",
    "\n",
    "    # construct PF\n",
    "    for i in range(0, num_cols-1):\n",
    "        for j in range(0, num_rows-1):\n",
    "            symbol = train_x[j][i]\n",
    "            if (not [i, symbol] in PF):\n",
    "                constraint_1 = frequency(i, symbol, P) / len(P)\n",
    "                constraint_2 = frequency(i, symbol, U) / len(U)\n",
    "                if (constraint_1 > constraint_2) and (constraint_1 > parameter_lambda):\n",
    "                    new = [i, symbol]\n",
    "                    PF = np.vstack([PF, new])\n",
    "                \n",
    "    print(\"1-DNFII: PF is constructed\")\n",
    "              \n",
    "    # construct list with indices of elements to remove from RN\n",
    "    # (based on PF)\n",
    "    index = []        \n",
    "    for i in range(0, len(RN)-1):\n",
    "        for constraint in PF:\n",
    "            element = RN[i]\n",
    "            if element[int(constraint[0])] == constraint[1]:\n",
    "                index.append(i)\n",
    "              \n",
    "    RN = np.delete(RN, index, 0)\n",
    "    RN_y = np.delete(RN_y, index, 0)\n",
    "                \n",
    "    print(\"1-DNFII: RN was finalized\")\n",
    "    \n",
    "    return P, P_y, U, U_y, RN, RN_y, PF"
   ]
  },
  {
   "cell_type": "code",
   "execution_count": 5,
   "id": "9680a952",
   "metadata": {},
   "outputs": [
    {
     "name": "stdout",
     "output_type": "stream",
     "text": [
      "1-DNFII: RN is initialized\n",
      "1-DNFII: PF is constructed\n",
      "1-DNFII: RN was finalized\n"
     ]
    }
   ],
   "source": [
    "P, P_y, U, U_y, RN, RN_y, PF = dnf(train_x, train_y)"
   ]
  },
  {
   "cell_type": "code",
   "execution_count": 6,
   "id": "343ad21b",
   "metadata": {},
   "outputs": [],
   "source": [
    "# returns a numpy array that holds all the elements of a that are not in b\n",
    "def setdiff_nd_positivenums(a, b):\n",
    "    s = np.maximum(a.max(0)+1,b.max(0)+1)\n",
    "    return a[~np.isin(a.dot(s),b.dot(s))]"
   ]
  },
  {
   "cell_type": "code",
   "execution_count": 7,
   "id": "669db164",
   "metadata": {},
   "outputs": [
    {
     "name": "stdout",
     "output_type": "stream",
     "text": [
      "size U: 7559 precision: 0.9639175257731958 all: 0.9639175257731958\n",
      "size U: 6979 precision: 0.9639175257731958 all: 1.9278350515463916\n",
      "size U: 6252 precision: 0.9421052631578948 all: 2.8699403147042863\n",
      "size U: 5670 precision: 0.9393139841688655 all: 3.8092542988731517\n",
      "size U: 4749 precision: 0.928 all: 4.737254298873152\n",
      "size U: 3404 precision: 0.9076086956521738 all: 5.644862994525326\n",
      "size U: 2068 precision: 0.8707865168539327 all: 6.515649511379259\n",
      "size U: 1160 precision: 0.8481375358166189 all: 7.363787047195878\n",
      "size U: 730 precision: 0.8279883381924198 all: 8.191775385388297\n",
      "size U: 515 precision: 0.7927927927927928 all: 8.98456817818109\n",
      "size U: 413 precision: 0.7668711656441717 all: 9.751439343825263\n",
      "size U: 358 precision: 0.7668711656441717 all: 10.518310509469435\n",
      "size U: 331 precision: 0.7592592592592593 all: 11.277569768728695\n",
      "size U: 310 precision: 0.7476635514018691 all: 12.025233320130564\n",
      "size U: 297 precision: 0.7476635514018691 all: 12.772896871532433\n",
      "size U: 286 precision: 0.74375 all: 13.516646871532433\n",
      "size U: 279 precision: 0.74375 all: 14.260396871532434\n",
      "------------------\n",
      "A weighted voting method with 17 classifiers was created.\n"
     ]
    }
   ],
   "source": [
    "FinalWVClassifier = []\n",
    "FinalWVClassifier_weights = []\n",
    "\n",
    "# shuffle rows of P and then delete the first 10%\n",
    "P = np.insert(P, len(P[0]), P_y, axis=1)\n",
    "np.random.shuffle(P)\n",
    "PP = P[:round(len(P)/10),:]\n",
    "PP_y = PP[:, -1]\n",
    "PP = np.delete(PP, -1, 1)\n",
    "index = [x for x in range(0, round(len(P)/10))]\n",
    "P = np.delete(P, index, 0)\n",
    "P_y = P[:, -1]\n",
    "P = np.delete(P, -1, 1)\n",
    "\n",
    "PON = np.vstack([P, RN])\n",
    "PON_y = np.append(P_y, RN_y)\n",
    "\n",
    "RN = np.insert(RN, len(RN[0]), RN_y, axis=1)\n",
    "\n",
    "U = np.insert(U, len(U[0]), U_y, axis=1)\n",
    "U = setdiff_nd_positivenums(U, RN)\n",
    "U_y = U[:, -1]\n",
    "U = np.delete(U, -1, 1)\n",
    "\n",
    "allPrecision = 0\n",
    "\n",
    "last_U = 0\n",
    "\n",
    "while (True):\n",
    "    if (len(U) == 0):\n",
    "        break\n",
    "    \n",
    "    # create a new SVM\n",
    "    new_clf = make_pipeline(StandardScaler(), svm.SVC(gamma='auto'))\n",
    "    \n",
    "    # round elements of PON_y to their nearest integer\n",
    "    PON_y = np.rint(PON_y)\n",
    "    \n",
    "    # train the new SVM\n",
    "    new_clf.fit(np.copy(PON), np.copy(PON_y))\n",
    "    \n",
    "    # predict the labels of the class U\n",
    "    NEG = new_clf.predict(np.copy(U))\n",
    "    \n",
    "    # predict the labels of the class PP\n",
    "    predictions = new_clf.predict(np.copy(PP))\n",
    "    \n",
    "    # calculate the F1 score of the trained SVM\n",
    "    precision = f1_score(np.ones(len(predictions)), predictions)\n",
    "    allPrecision += precision\n",
    "    \n",
    "    # initialize list with indexes that will be removed from U\n",
    "    index = []\n",
    "    \n",
    "    # check which elements can be removed from U\n",
    "    for i in range(0, len(NEG)):\n",
    "        if (NEG[i] == 0):\n",
    "            index.append(i)\n",
    "            PON = np.vstack([PON, U[i, :]])\n",
    "            PON_y = np.append(PON_y, NEG[i])\n",
    "    \n",
    "    # remove elements of U\n",
    "    U = np.delete(U, index, 0)\n",
    "    \n",
    "    if (len(U) == last_U):\n",
    "        break\n",
    "        \n",
    "    last_U = len(U)\n",
    "    \n",
    "    print(\"size U: \" + str(len(U)) + \" precision: \" + str(precision) + \" all: \" + str(allPrecision))\n",
    "    \n",
    "    # add classifier to list of classifiers\n",
    "    FinalWVClassifier.append(new_clf)\n",
    "    FinalWVClassifier_weights.append(precision)\n",
    "    \n",
    "for i in range(0, len(FinalWVClassifier_weights)):\n",
    "    FinalWVClassifier_weights[i] = FinalWVClassifier_weights[i] / allPrecision\n",
    "\n",
    "print(\"------------------\")\n",
    "print(\"A weighted voting method with \" + str(len(FinalWVClassifier)) + \" classifiers was created.\")"
   ]
  },
  {
   "cell_type": "code",
   "execution_count": 8,
   "id": "d919b6c0",
   "metadata": {},
   "outputs": [],
   "source": [
    "# predict the label of the elements of the given list with the given classifiers and weigths\n",
    "# returns a list with these labels\n",
    "def predict_weighted_voting_list(classifiers, weights, listt):\n",
    "    result = []\n",
    "    for elem in listt:\n",
    "        result.append(predict_weighted_voting(classifiers, weights, elem))\n",
    "    return result\n",
    "    \n",
    "# predict the label of x with the given classifiers and weigths\n",
    "def predict_weighted_voting(classifiers, weigths, x):\n",
    "    score = 0\n",
    "    for i in range(0, len(FinalWVClassifier)):\n",
    "        score += FinalWVClassifier_weights[i] * FinalWVClassifier[i].predict([x])\n",
    "    return round(score[0])"
   ]
  },
  {
   "cell_type": "code",
   "execution_count": 9,
   "id": "9262b3ab",
   "metadata": {},
   "outputs": [
    {
     "name": "stdout",
     "output_type": "stream",
     "text": [
      "1-DNFII F1 score: 0.6998411858125992\n"
     ]
    }
   ],
   "source": [
    "name = \"1-DNFII\"\n",
    "pred_y = predict_weighted_voting_list(FinalWVClassifier, FinalWVClassifier_weights, np.copy(test_x))         \n",
    "print(name,\"F1 score:\", f1_score(test_y, pred_y))"
   ]
  },
  {
   "cell_type": "code",
   "execution_count": null,
   "id": "17c7fc59",
   "metadata": {},
   "outputs": [],
   "source": []
  }
 ],
 "metadata": {
  "kernelspec": {
   "display_name": "Python 3 (ipykernel)",
   "language": "python",
   "name": "python3"
  },
  "language_info": {
   "codemirror_mode": {
    "name": "ipython",
    "version": 3
   },
   "file_extension": ".py",
   "mimetype": "text/x-python",
   "name": "python",
   "nbconvert_exporter": "python",
   "pygments_lexer": "ipython3",
   "version": "3.9.7"
  }
 },
 "nbformat": 4,
 "nbformat_minor": 5
}
