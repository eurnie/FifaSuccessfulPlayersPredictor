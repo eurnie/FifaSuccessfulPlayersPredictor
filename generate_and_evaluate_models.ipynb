{
 "cells": [
  {
   "cell_type": "markdown",
   "id": "3d04e8ce",
   "metadata": {},
   "source": [
    "# Generate and evaluate models"
   ]
  },
  {
   "cell_type": "markdown",
   "id": "884d334e",
   "metadata": {},
   "source": [
    "### Import training and test data"
   ]
  },
  {
   "cell_type": "code",
   "execution_count": 1,
   "id": "94262d71",
   "metadata": {},
   "outputs": [],
   "source": [
    "import numpy as np\n",
    "import pandas as pd\n",
    "import matplotlib.pyplot as plt\n",
    "from collections import Counter\n",
    "from sklearn.metrics import f1_score, mean_squared_error as mse\n",
    "from sklearn import svm\n",
    "from sklearn.linear_model import LogisticRegression\n",
    "from sklearn.pipeline import make_pipeline\n",
    "from sklearn.preprocessing import StandardScaler\n",
    "from PU_Learning import *\n",
    "\n",
    "def ignore_warnings():\n",
    "    import warnings\n",
    "    warnings.simplefilter(action='ignore', category=FutureWarning)\n",
    "    warnings.simplefilter(action='ignore', category=Warning)\n",
    "\n",
    "ignore_warnings()"
   ]
  },
  {
   "cell_type": "code",
   "execution_count": 2,
   "id": "f7ea45c5",
   "metadata": {},
   "outputs": [],
   "source": [
    "# import training data\n",
    "data = pd.read_csv('clean_data/players_17_clean_train.csv')\n",
    "train_x = data.iloc[:, :-1].values\n",
    "train_y = data.iloc[:, -1].values\n",
    "s = data.iloc[:, -1].values\n",
    "c = Counter(s)[1]/Counter(train_y)[1]\n",
    "\n",
    "# import test data \n",
    "data = pd.read_csv('clean_data/players_17_clean_test.csv')\n",
    "test_x = data.iloc[:, :-1].values\n",
    "test_y = data.iloc[:, -1].values"
   ]
  },
  {
   "cell_type": "markdown",
   "id": "5150b7af",
   "metadata": {},
   "source": [
    "### Golden Standard Classifier"
   ]
  },
  {
   "cell_type": "code",
   "execution_count": 3,
   "id": "77fcbe30",
   "metadata": {},
   "outputs": [
    {
     "name": "stdout",
     "output_type": "stream",
     "text": [
      "Golden Standard Classifier: F1 score: 0.6432673899170389\n"
     ]
    }
   ],
   "source": [
    "# consider the dataset as fully labeled and use this as the best case in the comparison.\n",
    "golden_clf = svm.SVC(kernel='rbf', probability=True, random_state=331).fit(np.copy(train_x),np.copy(train_y))\n",
    "name = \"Golden Standard Classifier:\"\n",
    "\n",
    "best_pred_y = golden_clf.predict(np.copy(test_x))\n",
    "best_prob_y = golden_clf.predict_proba(np.copy(test_x))[:,1]\n",
    "\n",
    "print(name,\"F1 score:\", f1_score(test_y, best_pred_y))"
   ]
  },
  {
   "cell_type": "markdown",
   "id": "e9ae113f",
   "metadata": {},
   "source": [
    "### Non-Traditional Classifier"
   ]
  },
  {
   "cell_type": "code",
   "execution_count": 4,
   "id": "be6e1f76",
   "metadata": {},
   "outputs": [
    {
     "name": "stdout",
     "output_type": "stream",
     "text": [
      "Non-Traditional Classifier F1 score: 0.6432673899170389\n",
      "Non-Traditional Classifier MSE score: 0.0\n"
     ]
    }
   ],
   "source": [
    "non_trad_clf = svm.SVC(kernel='rbf', probability=True, random_state=331).fit(np.copy(train_x), np.copy(s))\n",
    "name = \"Non-Traditional Classifier\"\n",
    "\n",
    "pred_y = non_trad_clf.predict(np.copy(test_x))\n",
    "pred_prob_y = non_trad_clf.predict_proba(np.copy(test_x))[:,1]\n",
    "\n",
    "print(name,\"F1 score:\", f1_score(test_y, pred_y))\n",
    "print(name,\"MSE score:\", mse(best_prob_y, pred_prob_y))"
   ]
  },
  {
   "cell_type": "markdown",
   "id": "01957ab5",
   "metadata": {},
   "source": [
    "### Spy Expectation Maximization S-EM"
   ]
  },
  {
   "cell_type": "code",
   "execution_count": 45,
   "id": "5c4b4e75",
   "metadata": {},
   "outputs": [
    {
     "name": "stdout",
     "output_type": "stream",
     "text": [
      "Number of iterations first step: 201\n",
      "Number of iterations second step: 200\n",
      "SEM F1 score: 0.37638095238095237\n",
      "SEM MSE score: 0.7227220684944861\n"
     ]
    }
   ],
   "source": [
    "pu_classifier = SEM(tol=1.0e-10, max_iter=1000, spy_prop=0.1, l=0.15, classifier=LogisticRegression(), seed=331)\n",
    "name = \"SEM\"\n",
    "\n",
    "pu_classifier.fit(np.copy(train_x), np.copy(s))\n",
    "\n",
    "pred_y = pu_classifier.predict(np.copy(test_x))\n",
    "pred_prob_y = pu_classifier.predict_proba(np.copy(test_x))[:,1]\n",
    "\n",
    "print(name,\"F1 score:\", f1_score(test_y, pred_y))\n",
    "print(name,\"MSE score:\", mse(best_prob_y, pred_prob_y))"
   ]
  },
  {
   "cell_type": "markdown",
   "id": "bdc252db",
   "metadata": {},
   "source": [
    "### Modified Logistic Regression MLR"
   ]
  },
  {
   "cell_type": "code",
   "execution_count": 44,
   "id": "f803a67a",
   "metadata": {},
   "outputs": [
    {
     "name": "stdout",
     "output_type": "stream",
     "text": [
      "MLR F1 score: 0.37638095238095237\n",
      "MLR MSE score: 0.7254513062969232\n"
     ]
    }
   ],
   "source": [
    "pu_classifier = ModifiedLogisticRegression(max_iter=1000, l_rate=0.001, seed=331)\n",
    "name = \"MLR\"\n",
    "\n",
    "pu_classifier.parameters_update(np.copy(train_x), np.copy(s))\n",
    "pu_classifier.fit(np.copy(train_x), np.copy(s))\n",
    "pu_classifier.estimate_c()\n",
    "\n",
    "pred_y = pu_classifier.predict(np.copy(test_x))\n",
    "pred_prob_y = pu_classifier.predict_proba(np.copy(test_x))\n",
    "\n",
    "print(name,\"F1 score:\", f1_score(test_y, pred_y))\n",
    "print(name,\"MSE score:\", mse(best_prob_y, pred_prob_y))"
   ]
  },
  {
   "cell_type": "markdown",
   "id": "34e149a2",
   "metadata": {},
   "source": [
    "### 1-DNFII"
   ]
  },
  {
   "cell_type": "code",
   "execution_count": 41,
   "id": "a765fbe5",
   "metadata": {},
   "outputs": [],
   "source": [
    "# deviation indicates whether two feature values are considered the same\n",
    "# if deviation = 0, the two feature values need to be exactly the same\n",
    "# if deviation = 1, feature value one need to be equal to feature value two - 1\n",
    "#                   OR feature value one need to be equal to feature value two + 1\n",
    "#                   OR the two feature values are exactly the same\n",
    "global deviation \n",
    "deviation = 0.1\n",
    "\n",
    "# the parameter lambda used in 1-DNFII\n",
    "global parameter_lambda \n",
    "parameter_lambda = 0.7"
   ]
  },
  {
   "cell_type": "code",
   "execution_count": 42,
   "id": "c34bb67e",
   "metadata": {},
   "outputs": [],
   "source": [
    "# calculate the frequency of a certain score for a certain feature\n",
    "def frequency(feature, score, collection):\n",
    "    count = 0\n",
    "    for element in collection:\n",
    "        if (element[feature] > score - deviation) and (element[feature] < score + deviation):\n",
    "            count += 1\n",
    "    return count\n",
    "\n",
    "# algorithm improved 1-DNF (1-DNFII)\n",
    "def dnf(train_x, train_y):\n",
    "    num_rows, num_cols = train_x.shape\n",
    "    \n",
    "    # PF = positive feature set\n",
    "    PF = np.zeros(shape=(0, 2))\n",
    "    \n",
    "    # RN = reliable negatives\n",
    "    RN = np.zeros(shape=(0, num_cols))\n",
    "    RN_y = np.array([])\n",
    "    \n",
    "    # U = unlabeled\n",
    "    U = np.zeros(shape=(0, num_cols))\n",
    "    U_y = np.array([])\n",
    "    \n",
    "    # P = positive\n",
    "    P = np.zeros(shape=(0, num_cols))\n",
    "    P_y = np.array([])\n",
    "    \n",
    "    # construct P, U and RN\n",
    "    # at this moment: RN = U\n",
    "    for i in range(0, len(train_y)-1):\n",
    "        if (train_y[i] == 1):\n",
    "            P = np.vstack([P, train_x[i]])\n",
    "            P_y = np.append(P_y, train_y[i])\n",
    "        else:\n",
    "            U = np.vstack([U, train_x[i]])\n",
    "            U_y = np.append(U_y, train_y[i])\n",
    "            RN = np.vstack([RN, train_x[i]])\n",
    "            RN_y = np.append(RN_y, train_y[i])\n",
    "            \n",
    "    print(\"1-DNFII: RN is initialized\")\n",
    "\n",
    "    # construct PF\n",
    "    for i in range(0, num_cols-1):\n",
    "        for j in range(0, num_rows-1):\n",
    "            symbol = train_x[j][i]\n",
    "            if (not [i, symbol] in PF):\n",
    "                constraint_1 = frequency(i, symbol, P) / len(P)\n",
    "                constraint_2 = frequency(i, symbol, U) / len(U)\n",
    "                if (constraint_1 > constraint_2) and (constraint_1 > parameter_lambda):\n",
    "                    new = [i, symbol]\n",
    "                    PF = np.vstack([PF, new])\n",
    "                \n",
    "    print(\"1-DNFII: PF is constructed\")\n",
    "              \n",
    "    # construct list with indices of elements to remove from RN\n",
    "    # (based on PF)\n",
    "    index = []        \n",
    "    for i in range(0, len(RN)-1):\n",
    "        for constraint in PF:\n",
    "            element = RN[i]\n",
    "            if element[int(constraint[0])] == constraint[1]:\n",
    "                index.append(i)\n",
    "              \n",
    "    RN = np.delete(RN, index, 0)\n",
    "    RN_y = np.delete(RN_y, index, 0)\n",
    "                \n",
    "    print(\"1-DNFII: RN was finalized\")\n",
    "    \n",
    "    return P, P_y, U, U_y, RN, RN_y, PF"
   ]
  },
  {
   "cell_type": "code",
   "execution_count": 43,
   "id": "9680a952",
   "metadata": {},
   "outputs": [
    {
     "name": "stdout",
     "output_type": "stream",
     "text": [
      "1-DNFII: RN is initialized\n"
     ]
    },
    {
     "ename": "KeyboardInterrupt",
     "evalue": "",
     "output_type": "error",
     "traceback": [
      "\u001b[0;31m---------------------------------------------------------------------------\u001b[0m",
      "\u001b[0;31mKeyboardInterrupt\u001b[0m                         Traceback (most recent call last)",
      "\u001b[0;32m/tmp/ipykernel_235707/2757537502.py\u001b[0m in \u001b[0;36m<module>\u001b[0;34m\u001b[0m\n\u001b[0;32m----> 1\u001b[0;31m \u001b[0mP\u001b[0m\u001b[0;34m,\u001b[0m \u001b[0mP_y\u001b[0m\u001b[0;34m,\u001b[0m \u001b[0mU\u001b[0m\u001b[0;34m,\u001b[0m \u001b[0mU_y\u001b[0m\u001b[0;34m,\u001b[0m \u001b[0mRN\u001b[0m\u001b[0;34m,\u001b[0m \u001b[0mRN_y\u001b[0m\u001b[0;34m,\u001b[0m \u001b[0mPF\u001b[0m \u001b[0;34m=\u001b[0m \u001b[0mdnf\u001b[0m\u001b[0;34m(\u001b[0m\u001b[0mtrain_x\u001b[0m\u001b[0;34m,\u001b[0m \u001b[0mtrain_y\u001b[0m\u001b[0;34m)\u001b[0m\u001b[0;34m\u001b[0m\u001b[0;34m\u001b[0m\u001b[0m\n\u001b[0m",
      "\u001b[0;32m/tmp/ipykernel_235707/637837324.py\u001b[0m in \u001b[0;36mdnf\u001b[0;34m(train_x, train_y)\u001b[0m\n\u001b[1;32m     46\u001b[0m             \u001b[0;32mif\u001b[0m \u001b[0;34m(\u001b[0m\u001b[0;32mnot\u001b[0m \u001b[0;34m[\u001b[0m\u001b[0mi\u001b[0m\u001b[0;34m,\u001b[0m \u001b[0msymbol\u001b[0m\u001b[0;34m]\u001b[0m \u001b[0;32min\u001b[0m \u001b[0mPF\u001b[0m\u001b[0;34m)\u001b[0m\u001b[0;34m:\u001b[0m\u001b[0;34m\u001b[0m\u001b[0;34m\u001b[0m\u001b[0m\n\u001b[1;32m     47\u001b[0m                 \u001b[0mconstraint_1\u001b[0m \u001b[0;34m=\u001b[0m \u001b[0mfrequency\u001b[0m\u001b[0;34m(\u001b[0m\u001b[0mi\u001b[0m\u001b[0;34m,\u001b[0m \u001b[0msymbol\u001b[0m\u001b[0;34m,\u001b[0m \u001b[0mP\u001b[0m\u001b[0;34m)\u001b[0m \u001b[0;34m/\u001b[0m \u001b[0mlen\u001b[0m\u001b[0;34m(\u001b[0m\u001b[0mP\u001b[0m\u001b[0;34m)\u001b[0m\u001b[0;34m\u001b[0m\u001b[0;34m\u001b[0m\u001b[0m\n\u001b[0;32m---> 48\u001b[0;31m                 \u001b[0mconstraint_2\u001b[0m \u001b[0;34m=\u001b[0m \u001b[0mfrequency\u001b[0m\u001b[0;34m(\u001b[0m\u001b[0mi\u001b[0m\u001b[0;34m,\u001b[0m \u001b[0msymbol\u001b[0m\u001b[0;34m,\u001b[0m \u001b[0mU\u001b[0m\u001b[0;34m)\u001b[0m \u001b[0;34m/\u001b[0m \u001b[0mlen\u001b[0m\u001b[0;34m(\u001b[0m\u001b[0mU\u001b[0m\u001b[0;34m)\u001b[0m\u001b[0;34m\u001b[0m\u001b[0;34m\u001b[0m\u001b[0m\n\u001b[0m\u001b[1;32m     49\u001b[0m                 \u001b[0;32mif\u001b[0m \u001b[0;34m(\u001b[0m\u001b[0mconstraint_1\u001b[0m \u001b[0;34m>\u001b[0m \u001b[0mconstraint_2\u001b[0m\u001b[0;34m)\u001b[0m \u001b[0;32mand\u001b[0m \u001b[0;34m(\u001b[0m\u001b[0mconstraint_1\u001b[0m \u001b[0;34m>\u001b[0m \u001b[0mparameter_lambda\u001b[0m\u001b[0;34m)\u001b[0m\u001b[0;34m:\u001b[0m\u001b[0;34m\u001b[0m\u001b[0;34m\u001b[0m\u001b[0m\n\u001b[1;32m     50\u001b[0m                     \u001b[0mnew\u001b[0m \u001b[0;34m=\u001b[0m \u001b[0;34m[\u001b[0m\u001b[0mi\u001b[0m\u001b[0;34m,\u001b[0m \u001b[0msymbol\u001b[0m\u001b[0;34m]\u001b[0m\u001b[0;34m\u001b[0m\u001b[0;34m\u001b[0m\u001b[0m\n",
      "\u001b[0;32m/tmp/ipykernel_235707/637837324.py\u001b[0m in \u001b[0;36mfrequency\u001b[0;34m(feature, score, collection)\u001b[0m\n\u001b[1;32m      3\u001b[0m     \u001b[0mcount\u001b[0m \u001b[0;34m=\u001b[0m \u001b[0;36m0\u001b[0m\u001b[0;34m\u001b[0m\u001b[0;34m\u001b[0m\u001b[0m\n\u001b[1;32m      4\u001b[0m     \u001b[0;32mfor\u001b[0m \u001b[0melement\u001b[0m \u001b[0;32min\u001b[0m \u001b[0mcollection\u001b[0m\u001b[0;34m:\u001b[0m\u001b[0;34m\u001b[0m\u001b[0;34m\u001b[0m\u001b[0m\n\u001b[0;32m----> 5\u001b[0;31m         \u001b[0;32mif\u001b[0m \u001b[0;34m(\u001b[0m\u001b[0melement\u001b[0m\u001b[0;34m[\u001b[0m\u001b[0mfeature\u001b[0m\u001b[0;34m]\u001b[0m \u001b[0;34m>\u001b[0m \u001b[0mscore\u001b[0m \u001b[0;34m-\u001b[0m \u001b[0mdeviation\u001b[0m\u001b[0;34m)\u001b[0m \u001b[0;32mand\u001b[0m \u001b[0;34m(\u001b[0m\u001b[0melement\u001b[0m\u001b[0;34m[\u001b[0m\u001b[0mfeature\u001b[0m\u001b[0;34m]\u001b[0m \u001b[0;34m<\u001b[0m \u001b[0mscore\u001b[0m \u001b[0;34m+\u001b[0m \u001b[0mdeviation\u001b[0m\u001b[0;34m)\u001b[0m\u001b[0;34m:\u001b[0m\u001b[0;34m\u001b[0m\u001b[0;34m\u001b[0m\u001b[0m\n\u001b[0m\u001b[1;32m      6\u001b[0m             \u001b[0mcount\u001b[0m \u001b[0;34m+=\u001b[0m \u001b[0;36m1\u001b[0m\u001b[0;34m\u001b[0m\u001b[0;34m\u001b[0m\u001b[0m\n\u001b[1;32m      7\u001b[0m     \u001b[0;32mreturn\u001b[0m \u001b[0mcount\u001b[0m\u001b[0;34m\u001b[0m\u001b[0;34m\u001b[0m\u001b[0m\n",
      "\u001b[0;31mKeyboardInterrupt\u001b[0m: "
     ]
    }
   ],
   "source": [
    "P, P_y, U, U_y, RN, RN_y, PF = dnf(train_x, train_y)"
   ]
  },
  {
   "cell_type": "code",
   "execution_count": null,
   "id": "7d26f95f",
   "metadata": {},
   "outputs": [],
   "source": [
    "training_x = np.vstack([P, RN])\n",
    "training_y = np.append(P_y, RN_y)\n",
    "\n",
    "clf = make_pipeline(StandardScaler(), svm.SVC(gamma='auto'))\n",
    "clf.fit(np.copy(training_x), np.copy(training_y))\n",
    "name = \"1-DNFII\"\n",
    "\n",
    "pred_y = clf.predict(np.copy(test_x))\n",
    "#pred_prob_y = clf.predict_proba(np.copy(test_x))\n",
    "            \n",
    "print(name,\"F1 score:\", f1_score(test_y, pred_y))\n",
    "#print(name,\"MSE score:\", mse(best_prob_y, pred_prob_y))"
   ]
  },
  {
   "cell_type": "code",
   "execution_count": null,
   "id": "bbb46af8",
   "metadata": {},
   "outputs": [],
   "source": [
    "print(PF)\n",
    "print(len(RN))\n",
    "print(len(U))"
   ]
  },
  {
   "cell_type": "code",
   "execution_count": null,
   "id": "967a7863",
   "metadata": {},
   "outputs": [],
   "source": []
  }
 ],
 "metadata": {
  "kernelspec": {
   "display_name": "Python 3 (ipykernel)",
   "language": "python",
   "name": "python3"
  },
  "language_info": {
   "codemirror_mode": {
    "name": "ipython",
    "version": 3
   },
   "file_extension": ".py",
   "mimetype": "text/x-python",
   "name": "python",
   "nbconvert_exporter": "python",
   "pygments_lexer": "ipython3",
   "version": "3.9.7"
  }
 },
 "nbformat": 4,
 "nbformat_minor": 5
}
