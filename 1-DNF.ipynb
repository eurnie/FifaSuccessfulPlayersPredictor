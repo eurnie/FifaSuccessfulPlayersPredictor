{
 "cells": [
  {
   "cell_type": "code",
   "execution_count": 1,
   "id": "94262d71",
   "metadata": {},
   "outputs": [],
   "source": [
    "import numpy as np\n",
    "import pandas as pd\n",
    "import matplotlib.pyplot as plt\n",
    "from collections import Counter\n",
    "from sklearn.metrics import f1_score, mean_squared_error as mse\n",
    "from sklearn import svm\n",
    "from sklearn.linear_model import LogisticRegression\n",
    "\n",
    "def ignore_warnings():\n",
    "    import warnings\n",
    "    warnings.simplefilter(action='ignore', category=FutureWarning)\n",
    "    warnings.simplefilter(action='ignore', category=Warning)\n",
    "\n",
    "ignore_warnings()"
   ]
  },
  {
   "cell_type": "code",
   "execution_count": 2,
   "id": "f7ea45c5",
   "metadata": {},
   "outputs": [],
   "source": [
    "data = pd.read_csv('clean_data/players_17_clean_train.csv')\n",
    "X1_train= data.iloc[:, :-1].values\n",
    "y1_train = data.iloc[:, -1].values\n",
    "s1 = data.iloc[:, -1].values\n",
    "c1 = Counter(s1)[1]/Counter(y1_train)[1]\n",
    "\n",
    "data = pd.read_csv('clean_data/players_17_clean_test.csv')\n",
    "X1_test= data.iloc[:, :-1].values\n",
    "y1_test = data.iloc[:, -1].values"
   ]
  },
  {
   "cell_type": "code",
   "execution_count": 34,
   "id": "c34bb67e",
   "metadata": {},
   "outputs": [],
   "source": [
    "def frequency(i, j, collection):\n",
    "    count = 0\n",
    "    for elem in collection:\n",
    "        if elem[i] == j:\n",
    "            count += 1\n",
    "    return count\n",
    "\n",
    "def dnf(train_x, train_y):\n",
    "    num_rows, num_cols = train_x.shape\n",
    "    PF = np.zeros(shape=(0, 2))\n",
    "    \n",
    "    RN = np.zeros(shape=(0, num_cols))\n",
    "    RN_y = np.array([])\n",
    "    U = np.zeros(shape=(0, num_cols))\n",
    "    U_y = np.array([])\n",
    "    P = np.zeros(shape=(0, num_cols))\n",
    "    P_y = np.array([])\n",
    "    \n",
    "    # RN = U (RN: reliable negative documents)\n",
    "    for i in range(0, len(train_y)-1):\n",
    "        if (train_y[i] == 0):\n",
    "            RN = np.vstack([RN, train_x[i]])\n",
    "            RN_y = np.append(RN_y, train_y[i])\n",
    "            U = np.vstack([U, train_x[i]])\n",
    "            U_y = np.append(U_y, train_y[i])\n",
    "        else:\n",
    "            P = np.vstack([P, train_x[i]])\n",
    "            P_y = np.append(P_y, train_y[i])\n",
    "            \n",
    "    for i in range(0, num_cols-1):\n",
    "        for j in range(0, num_rows-1):\n",
    "            symbol = train_x[j][i]\n",
    "            constraint_1 = frequency(i, symbol, P) / len(P)\n",
    "            constraint_2 = frequency(i, symbol, U) / len(U)\n",
    "            if (constraint_1 > constraint_2) and (constraint_1 > 0.5):\n",
    "                new = [i, symbol]\n",
    "                PF = np.vstack([PF, new])\n",
    "    index = []\n",
    "                \n",
    "    for elem in range(0, len(train_x)-1):\n",
    "        for constraint in PF:\n",
    "            element = train_x[elem]\n",
    "            if element[int(constraint[0])] == constraint[1]:\n",
    "                index.append(elem)\n",
    "                \n",
    "    RN = np.delete(RN, index)\n",
    "    \n",
    "    #remove duplicates\n",
    "    PF = np.unique(PF)\n",
    "    \n",
    "    return P, P_y, U_y, RN, RN_y, PF"
   ]
  },
  {
   "cell_type": "code",
   "execution_count": 35,
   "id": "9680a952",
   "metadata": {},
   "outputs": [
    {
     "name": "stdout",
     "output_type": "stream",
     "text": [
      "[0. 2.]\n"
     ]
    }
   ],
   "source": [
    "P, P_y, U_y, RN, RN_y, PF = dnf(X1_train, y1_train)\n",
    "print(PF)"
   ]
  },
  {
   "cell_type": "code",
   "execution_count": 33,
   "id": "7d26f95f",
   "metadata": {},
   "outputs": [
    {
     "ename": "ValueError",
     "evalue": "all the input array dimensions for the concatenation axis must match exactly, but along dimension 1, the array at index 0 has size 22 and the array at index 1 has size 233793",
     "output_type": "error",
     "traceback": [
      "\u001b[0;31m---------------------------------------------------------------------------\u001b[0m",
      "\u001b[0;31mValueError\u001b[0m                                Traceback (most recent call last)",
      "\u001b[0;32m/tmp/ipykernel_298257/3240412097.py\u001b[0m in \u001b[0;36m<module>\u001b[0;34m\u001b[0m\n\u001b[1;32m      1\u001b[0m \u001b[0;32mfrom\u001b[0m \u001b[0msklearn\u001b[0m\u001b[0;34m.\u001b[0m\u001b[0msvm\u001b[0m \u001b[0;32mimport\u001b[0m \u001b[0mSVC\u001b[0m\u001b[0;34m\u001b[0m\u001b[0;34m\u001b[0m\u001b[0m\n\u001b[1;32m      2\u001b[0m \u001b[0;34m\u001b[0m\u001b[0m\n\u001b[0;32m----> 3\u001b[0;31m \u001b[0mtraining_x\u001b[0m \u001b[0;34m=\u001b[0m \u001b[0mnp\u001b[0m\u001b[0;34m.\u001b[0m\u001b[0mvstack\u001b[0m\u001b[0;34m(\u001b[0m\u001b[0;34m[\u001b[0m\u001b[0mP\u001b[0m\u001b[0;34m,\u001b[0m \u001b[0mRN\u001b[0m\u001b[0;34m]\u001b[0m\u001b[0;34m)\u001b[0m\u001b[0;34m\u001b[0m\u001b[0;34m\u001b[0m\u001b[0m\n\u001b[0m\u001b[1;32m      4\u001b[0m \u001b[0mtraining_y\u001b[0m \u001b[0;34m=\u001b[0m \u001b[0mnp\u001b[0m\u001b[0;34m.\u001b[0m\u001b[0mvstack\u001b[0m\u001b[0;34m(\u001b[0m\u001b[0;34m[\u001b[0m\u001b[0mP_y\u001b[0m\u001b[0;34m,\u001b[0m \u001b[0mRN_y\u001b[0m\u001b[0;34m]\u001b[0m\u001b[0;34m)\u001b[0m\u001b[0;34m\u001b[0m\u001b[0;34m\u001b[0m\u001b[0m\n\u001b[1;32m      5\u001b[0m \u001b[0;34m\u001b[0m\u001b[0m\n",
      "\u001b[0;32m<__array_function__ internals>\u001b[0m in \u001b[0;36mvstack\u001b[0;34m(*args, **kwargs)\u001b[0m\n",
      "\u001b[0;32m~/.local/lib/python3.9/site-packages/numpy/core/shape_base.py\u001b[0m in \u001b[0;36mvstack\u001b[0;34m(tup)\u001b[0m\n\u001b[1;32m    281\u001b[0m     \u001b[0;32mif\u001b[0m \u001b[0;32mnot\u001b[0m \u001b[0misinstance\u001b[0m\u001b[0;34m(\u001b[0m\u001b[0marrs\u001b[0m\u001b[0;34m,\u001b[0m \u001b[0mlist\u001b[0m\u001b[0;34m)\u001b[0m\u001b[0;34m:\u001b[0m\u001b[0;34m\u001b[0m\u001b[0;34m\u001b[0m\u001b[0m\n\u001b[1;32m    282\u001b[0m         \u001b[0marrs\u001b[0m \u001b[0;34m=\u001b[0m \u001b[0;34m[\u001b[0m\u001b[0marrs\u001b[0m\u001b[0;34m]\u001b[0m\u001b[0;34m\u001b[0m\u001b[0;34m\u001b[0m\u001b[0m\n\u001b[0;32m--> 283\u001b[0;31m     \u001b[0;32mreturn\u001b[0m \u001b[0m_nx\u001b[0m\u001b[0;34m.\u001b[0m\u001b[0mconcatenate\u001b[0m\u001b[0;34m(\u001b[0m\u001b[0marrs\u001b[0m\u001b[0;34m,\u001b[0m \u001b[0;36m0\u001b[0m\u001b[0;34m)\u001b[0m\u001b[0;34m\u001b[0m\u001b[0;34m\u001b[0m\u001b[0m\n\u001b[0m\u001b[1;32m    284\u001b[0m \u001b[0;34m\u001b[0m\u001b[0m\n\u001b[1;32m    285\u001b[0m \u001b[0;34m\u001b[0m\u001b[0m\n",
      "\u001b[0;32m<__array_function__ internals>\u001b[0m in \u001b[0;36mconcatenate\u001b[0;34m(*args, **kwargs)\u001b[0m\n",
      "\u001b[0;31mValueError\u001b[0m: all the input array dimensions for the concatenation axis must match exactly, but along dimension 1, the array at index 0 has size 22 and the array at index 1 has size 233793"
     ]
    }
   ],
   "source": [
    "from sklearn.svm import SVC\n",
    "\n",
    "training_x = np.vstack([P, RN])\n",
    "training_y = np.vstack([P_y, RN_y])\n",
    "\n",
    "clf = make_pipeline(StandardScaler(), SVC(gamma='auto'))\n",
    "clf.fit(training_x, training_y)\n",
    "\n",
    "y_pred = clf.predict(np.copy(X1_test))\n",
    "            \n",
    "print(name,\"F1 score:\", f1_score(y1_test, y_pred))\n",
    "#print(name,\"MSE score:\", mse(y_best_prob_1, y_pred_prob))"
   ]
  },
  {
   "cell_type": "code",
   "execution_count": 36,
   "id": "43b8600d",
   "metadata": {},
   "outputs": [
    {
     "name": "stdout",
     "output_type": "stream",
     "text": [
      "[0.         0.5        0.69230769 ... 0.48780488 0.45744681 0.46666667]\n"
     ]
    }
   ],
   "source": [
    "print(RN)"
   ]
  },
  {
   "cell_type": "code",
   "execution_count": null,
   "id": "04c60cd5",
   "metadata": {},
   "outputs": [],
   "source": []
  }
 ],
 "metadata": {
  "kernelspec": {
   "display_name": "Python 3 (ipykernel)",
   "language": "python",
   "name": "python3"
  },
  "language_info": {
   "codemirror_mode": {
    "name": "ipython",
    "version": 3
   },
   "file_extension": ".py",
   "mimetype": "text/x-python",
   "name": "python",
   "nbconvert_exporter": "python",
   "pygments_lexer": "ipython3",
   "version": "3.9.7"
  }
 },
 "nbformat": 4,
 "nbformat_minor": 5
}
