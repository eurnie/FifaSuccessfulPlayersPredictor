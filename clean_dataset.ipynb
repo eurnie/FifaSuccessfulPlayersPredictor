{
 "cells": [
  {
   "cell_type": "markdown",
   "metadata": {},
   "source": [
    "# Clean dataset"
   ]
  },
  {
   "cell_type": "code",
   "execution_count": 1,
   "metadata": {},
   "outputs": [],
   "source": [
    "%reload_ext autoreload\n",
    "%autoreload 2\n",
    "\n",
    "import numpy as np\n",
    "import pandas as pd\n",
    "from collections import Counter\n",
    "\n",
    "def ignore_warnings():\n",
    "    import warnings\n",
    "    warnings.simplefilter(action='ignore', category=FutureWarning)\n",
    "    warnings.simplefilter(action='ignore', category=Warning)\n",
    "\n",
    "ignore_warnings()"
   ]
  },
  {
   "cell_type": "code",
   "execution_count": 2,
   "metadata": {},
   "outputs": [
    {
     "name": "stdout",
     "output_type": "stream",
     "text": [
      "Number of positive examples: 456\n",
      "Number of unlabeled examples: 17140\n"
     ]
    }
   ],
   "source": [
    "data = pd.read_csv('players_17.csv')\n",
    "X_2017 = data.iloc[:, :-2].values\n",
    "Y_2017 = data.iloc[:, -1].values\n",
    "\n",
    "data = pd.read_csv('players_22.csv')\n",
    "X_2022 = data.iloc[:, :-2].values\n",
    "Y_2022 = data.iloc[:, -1].values\n",
    "\n",
    "for i in range(0, len(X_2022)):\n",
    "    if (int(X_2022[i][1]) >= 80):\n",
    "        for j in range(0, len(X_2017)):\n",
    "            if (X_2017[j][0] == X_2022[i][0]):\n",
    "                Y_2017[j] = 1\n",
    "                \n",
    "print(f\"Number of positive examples: {Counter(Y_2017)[1]}\")\n",
    "print(f\"Number of unlabeled examples: {Counter(Y_2017)[0]}\")\n",
    "                \n",
    "X_2017_array = np.array(X_2017)\n",
    "Y_2017_array = np.array(Y_2017)\n",
    "result = np.column_stack((X_2017_array, Y_2017_array))\n",
    "result[np.isnan(result)] = 0\n",
    "np.savetxt(\"players_17_clean.csv\", result, delimiter=\",\")"
   ]
  },
  {
   "cell_type": "code",
   "execution_count": 3,
   "metadata": {},
   "outputs": [
    {
     "name": "stdout",
     "output_type": "stream",
     "text": [
      "Number of training examples: 11613\n",
      "Number of testing examples: 150\n"
     ]
    }
   ],
   "source": [
    "# create train and test set\n",
    "clean_data = pd.read_csv('players_17_clean.csv')\n",
    "training_data = clean_data.sample(frac=0.66, random_state=25)\n",
    "testing_data = clean_data.drop(training_data.index)\n",
    "\n",
    "test = []\n",
    "for i in range(0, len(testing_data)):\n",
    "    if (int(testing_data.iloc[i][-1]) == 0):\n",
    "        test.append(testing_data.index[i])\n",
    "        \n",
    "testing_data = testing_data.drop(test)\n",
    "\n",
    "print(f\"Number of training examples: {training_data.shape[0]}\")\n",
    "print(f\"Number of testing examples: {testing_data.shape[0]}\")\n",
    "\n",
    "training_data.to_csv(\"players_17_clean_train.csv\", index=False)\n",
    "testing_data.to_csv(\"players_17_clean_test.csv\", index=False)"
   ]
  },
  {
   "cell_type": "code",
   "execution_count": null,
   "metadata": {},
   "outputs": [],
   "source": []
  }
 ],
 "metadata": {
  "kernelspec": {
   "display_name": "Python 3 (ipykernel)",
   "language": "python",
   "name": "python3"
  },
  "language_info": {
   "codemirror_mode": {
    "name": "ipython",
    "version": 3
   },
   "file_extension": ".py",
   "mimetype": "text/x-python",
   "name": "python",
   "nbconvert_exporter": "python",
   "pygments_lexer": "ipython3",
   "version": "3.9.7"
  }
 },
 "nbformat": 4,
 "nbformat_minor": 4
}
