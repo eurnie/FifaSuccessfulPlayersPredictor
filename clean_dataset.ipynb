{
 "cells": [
  {
   "cell_type": "markdown",
   "metadata": {},
   "source": [
    "# Clean dataset"
   ]
  },
  {
   "cell_type": "code",
   "execution_count": 1,
   "metadata": {},
   "outputs": [],
   "source": [
    "import numpy as np\n",
    "import pandas as pd\n",
    "from collections import Counter\n",
    "\n",
    "def ignore_warnings():\n",
    "    import warnings\n",
    "    warnings.simplefilter(action='ignore', category=FutureWarning)\n",
    "    warnings.simplefilter(action='ignore', category=Warning)\n",
    "\n",
    "ignore_warnings()"
   ]
  },
  {
   "cell_type": "code",
   "execution_count": 2,
   "metadata": {},
   "outputs": [
    {
     "name": "stdout",
     "output_type": "stream",
     "text": [
      "Number of positive examples: 862\n",
      "Number of unlabeled examples: 16734\n"
     ]
    }
   ],
   "source": [
    "# define the columns that will be dropped\n",
    "dropped_columns = ['player_url', 'short_name', 'long_name', 'player_positions', 'dob', 'club_name', 'league_name',\n",
    "                  'club_position', 'club_loaned_from', 'club_joined', 'nationality_name', 'nation_position',\n",
    "                  'preferred_foot', 'work_rate', 'body_type', 'real_face', 'player_tags', 'player_traits',\n",
    "                  'player_face_url', 'club_logo_url', 'club_flag_url', 'ls', 'st', 'rs', 'lw', 'lf', 'cf', 'rf',\n",
    "                  'rw', 'lam', 'cam', 'ram', 'lm', 'lcm', 'cm', 'rcm', 'rm', 'lwb', 'ldm', 'cdm', 'rdm', 'rwb',\n",
    "                  'lb', 'lcb', 'cb', 'rcb', 'rb', 'gk', 'nation_logo_url', 'nation_flag_url']\n",
    "\n",
    "# read the 2017 data from the .csv file and drop the columns defined above\n",
    "data = pd.read_csv('original_data/players_17.csv')\n",
    "data = data.drop(dropped_columns, axis = 1)\n",
    "X_2017 = data.iloc[:, :-2].values\n",
    "\n",
    "# create a vector with zeros (same length as X_2017)\n",
    "# these are the labels for the 2017 data\n",
    "Y_2017 = np.zeros((len(X_2017),), dtype=int)\n",
    "\n",
    "# read the 2018 data from the .csv file and drop the columns defined above\n",
    "data = pd.read_csv('original_data/players_18.csv')\n",
    "data = data.drop(dropped_columns, axis = 1)\n",
    "X_2018 = data.iloc[:, :-2].values\n",
    "\n",
    "# read the 2019 data from the .csv file and drop the columns defined above\n",
    "data = pd.read_csv('original_data/players_19.csv')\n",
    "data = data.drop(dropped_columns, axis = 1)\n",
    "X_2019 = data.iloc[:, :-2].values\n",
    "\n",
    "# read the 2020 data from the .csv file and drop the columns defined above\n",
    "data = pd.read_csv('original_data/players_20.csv')\n",
    "data = data.drop(dropped_columns, axis = 1)\n",
    "X_2020 = data.iloc[:, :-2].values\n",
    "\n",
    "# read the 2021 data from the .csv file and drop the columns defined above\n",
    "data = pd.read_csv('original_data/players_21.csv')\n",
    "data = data.drop(dropped_columns, axis = 1)\n",
    "X_2021 = data.iloc[:, :-2].values\n",
    "\n",
    "# read the 2022 data from the .csv file and drop the columns defined above\n",
    "data = pd.read_csv('original_data/players_22.csv')\n",
    "data = data.drop(dropped_columns, axis = 1)\n",
    "X_2022 = data.iloc[:, :-2].values\n",
    "\n",
    "# loop over every row in the 2022 data\n",
    "# if a player has an average rating that is higher or equal to 80, then mark this player \n",
    "#     as a positive example in the 2017 data\n",
    "# the first element of a row is a unique id (for a given player, this id is the same in every version of fifa)\n",
    "for i in range(0, len(X_2018)):\n",
    "    if (int(X_2018[i][1]) >= 80):\n",
    "        for j in range(0, len(X_2017)):\n",
    "            if (X_2017[j][0] == X_2018[i][0]):\n",
    "                Y_2017[j] = 1\n",
    "\n",
    "for i in range(0, len(X_2019)):\n",
    "    if (int(X_2019[i][1]) >= 80):\n",
    "        for j in range(0, len(X_2017)):\n",
    "            if (X_2017[j][0] == X_2019[i][0]):\n",
    "                Y_2017[j] = 1\n",
    "\n",
    "for i in range(0, len(X_2020)):\n",
    "    if (int(X_2020[i][1]) >= 80):\n",
    "        for j in range(0, len(X_2017)):\n",
    "            if (X_2017[j][0] == X_2020[i][0]):\n",
    "                Y_2017[j] = 1\n",
    "                \n",
    "for i in range(0, len(X_2021)):\n",
    "    if (int(X_2021[i][1]) >= 80):\n",
    "        for j in range(0, len(X_2017)):\n",
    "            if (X_2017[j][0] == X_2021[i][0]):\n",
    "                Y_2017[j] = 1\n",
    "                \n",
    "for i in range(0, len(X_2022)):\n",
    "    if (int(X_2022[i][1]) >= 80):\n",
    "        for j in range(0, len(X_2017)):\n",
    "            if (X_2017[j][0] == X_2022[i][0]):\n",
    "                Y_2017[j] = 1\n",
    "                \n",
    "# print the number of positive and negative examples\n",
    "print(f\"Number of positive examples: {Counter(Y_2017)[1]}\")\n",
    "print(f\"Number of unlabeled examples: {Counter(Y_2017)[0]}\")\n",
    "               \n",
    "# the labels (that indicate if an instance is positive or negative (unlabeled in this case)) are \n",
    "#    stacked together into one matrix\n",
    "X_2017_array = np.array(X_2017)\n",
    "Y_2017_array = np.array(Y_2017)\n",
    "result = np.column_stack((X_2017_array, Y_2017_array))\n",
    "\n",
    "# every occurence of NaN is replaced by zero\n",
    "result[np.isnan(result)] = 0\n",
    "\n",
    "# the data is cleaned and written to a file\n",
    "np.savetxt(\"clean_data/players_17_clean.csv\", result, delimiter=\",\")"
   ]
  },
  {
   "cell_type": "code",
   "execution_count": 3,
   "metadata": {},
   "outputs": [
    {
     "name": "stdout",
     "output_type": "stream",
     "text": [
      "Number of training examples: 11613\n",
      "Number of testing examples: 5982\n"
     ]
    }
   ],
   "source": [
    "# creating a train and a test set\n",
    "\n",
    "# cleaned data that was created in the previous block is read and randomly devided into two classes: train and test\n",
    "# 2/3 of the examples are in the training set\n",
    "# 1/3 of the examples are in the test set\n",
    "clean_data = pd.read_csv('clean_data/players_17_clean.csv')\n",
    "training_data = clean_data.sample(frac=0.66, random_state=25)\n",
    "testing_data = clean_data.drop(training_data.index)\n",
    "\n",
    "# because negative labeled examples are in fact unlabeled examples in our case, we can't be sure\n",
    "#     that they are indeed negative, so they are deleted from the test set\n",
    "# if the algorithm would indicate that an example it has never seen is a positive example, we can only be sure\n",
    "#     if that is indeed a positive example, if it is an unlabeled one, we are not sure\n",
    "\n",
    "# --> ik ben niet helemaal meer zeker of deze redenering nog klopt als we de spelers die in de jaren\n",
    "#        2018, 2019, 2020 of 2021 boven de 80 halen ook als positief labelen\n",
    "#test = []\n",
    "#for i in range(0, len(testing_data)):\n",
    "#    if (int(testing_data.iloc[i][-1]) == 0):\n",
    "#        test.append(testing_data.index[i])\n",
    "#testing_data = testing_data.drop(test)\n",
    "\n",
    "# print the number of training and test examples\n",
    "print(f\"Number of training examples: {training_data.shape[0]}\")\n",
    "print(f\"Number of testing examples: {testing_data.shape[0]}\")\n",
    "\n",
    "# write the training and test examples to two seperate files\n",
    "training_data.to_csv(\"clean_data/players_17_clean_train.csv\", index=False)\n",
    "testing_data.to_csv(\"clean_data/players_17_clean_test.csv\", index=False)"
   ]
  },
  {
   "cell_type": "code",
   "execution_count": null,
   "metadata": {},
   "outputs": [],
   "source": []
  }
 ],
 "metadata": {
  "kernelspec": {
   "display_name": "Python 3 (ipykernel)",
   "language": "python",
   "name": "python3"
  },
  "language_info": {
   "codemirror_mode": {
    "name": "ipython",
    "version": 3
   },
   "file_extension": ".py",
   "mimetype": "text/x-python",
   "name": "python",
   "nbconvert_exporter": "python",
   "pygments_lexer": "ipython3",
   "version": "3.9.7"
  }
 },
 "nbformat": 4,
 "nbformat_minor": 4
}
